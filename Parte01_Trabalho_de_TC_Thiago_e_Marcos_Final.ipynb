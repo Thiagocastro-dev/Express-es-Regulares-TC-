{
 "cells": [
  {
   "cell_type": "code",
   "execution_count": 37,
   "id": "4a7c1820",
   "metadata": {
    "tags": []
   },
   "outputs": [
    {
     "name": "stdout",
     "output_type": "stream",
     "text": [
      "Seu Nome: Thiago Castr0\n",
      "Sentença Não Aceita\n"
     ]
    }
   ],
   "source": [
    "#Expressão Regular para o Nome \n",
    "\n",
    "import re #Biblioteca de expressões Regulares\n",
    "#Inserindo o Nome com variavel input\n",
    "nome = input (\"Seu Nome: \")\n",
    "\n",
    "\n",
    "#Realizando a Expressao Regular\n",
    "nameReg = re.compile(r'([A-Z]+[a-z]+[^0-9])\\ ([A-Z]+[a-z]+[^0-9])\\ ([A-Z]+[a-z]+[^0-9]) | ([A-Z]+[a-z]+[^0-9])\\ ([A-Z]+[a-z]+[^0-9])')\n",
    "\n",
    "#Verificando se a setença escrita é válida\n",
    "if nameReg.search (nome):\n",
    "    print ('Sentença Aceita')\n",
    "else:\n",
    "    print ('Sentença Não Aceita')"
   ]
  },
  {
   "cell_type": "code",
   "execution_count": 16,
   "id": "2b68bf7c",
   "metadata": {
    "tags": []
   },
   "outputs": [
    {
     "name": "stdout",
     "output_type": "stream",
     "text": [
      "Digite o numero do seu cpf: 123.345.567-56\n",
      "Sentença Aceita\n"
     ]
    }
   ],
   "source": [
    "#Expressão Regular para o CPF\n",
    "import re #Biblioteca de expressões Regulares\n",
    "\n",
    "#Inserindo o cpf \n",
    "cpf = input (\"Digite o numero do seu cpf: \")\n",
    "\n",
    "#Aplicando a Expressão regular (Regex)\n",
    "expReg = re.compile(r'([0-9]{3}\\.){2}[0-9]{3}-[0-9]{2}')\n",
    "\n",
    "if expReg.search (cpf):\n",
    "    print ('Sentença Aceita')\n",
    "else:\n",
    "    print ('Sentença Não Aceita')"
   ]
  },
  {
   "cell_type": "code",
   "execution_count": 2,
   "id": "438034e1",
   "metadata": {
    "tags": []
   },
   "outputs": [
    {
     "name": "stdout",
     "output_type": "stream",
     "text": [
      "Seu email: ah@ege.com\n",
      "Sentença Não Aceita\n"
     ]
    }
   ],
   "source": [
    "#Expressão Regular para o EMAIL\n",
    "\n",
    "import re #Biblioteca de expressões Regulares\n",
    "\n",
    "#Inserindo o Email a partir da variável input\n",
    "email = input (\"Seu email: \")\n",
    "\n",
    "\n",
    "#Realizando a Expressão Regular\n",
    "emailReg = re.compile(r'[a-z]+@[a-z]+(\\.com\\.br|\\.br)')\n",
    "\n",
    "\n",
    "#Verificando se a sentença é válida\n",
    "if emailReg.search (email):\n",
    "    print ('Sentença Aceita')\n",
    "else:\n",
    "    print ('Sentença Não Aceita')\n",
    "    "
   ]
  },
  {
   "cell_type": "code",
   "execution_count": 5,
   "id": "2d7a5d45",
   "metadata": {
    "tags": []
   },
   "outputs": [
    {
     "name": "stdout",
     "output_type": "stream",
     "text": [
      "Sua senha: hdjhedkgekd3\n",
      "12 \n",
      "Sentença Não Aceita\n"
     ]
    }
   ],
   "source": [
    "#Expressão Regular para o SENHA\n",
    "\n",
    "import re #Biblioteca de expressões Regulares\n",
    "\n",
    "#Inserindo a Senha a partir da variável input\n",
    "senha = input (\"Sua senha: \")\n",
    "\n",
    "\n",
    "#Realizando a Expressão Regular\n",
    "senhaReg = re.compile(r'(?=.*[0-9])(?=.*[A-Z])[A-Za-z0-9]{8}')\n",
    "\n",
    "\n",
    "#Verificando se a sentença é válida\n",
    "if senhaReg.search (senha):\n",
    "    \n",
    "    #Verifica o comprimento da senha\n",
    "    print (len(senha), '\\nSentença Aceita')\n",
    "else:\n",
    "    print (len(senha), '\\nSentença Não Aceita')\n",
    "    "
   ]
  },
  {
   "cell_type": "code",
   "execution_count": 17,
   "id": "02ba2430",
   "metadata": {
    "scrolled": true,
    "tags": []
   },
   "outputs": [
    {
     "name": "stdout",
     "output_type": "stream",
     "text": [
      "Data e hora: 99/12/2002 12:12:22\n",
      "Sentença Não Aceita\n"
     ]
    }
   ],
   "source": [
    "#Expressão Regular para Data e hora\n",
    "import re #Biblioteca de expressões Regulares\n",
    "datahoraReg = re.compile(r'^(([01]?[0-9]|3[0-1])/(0[1-9]|1[0-2])/[0-9]{4}) ([01]?[0-9]|2[0-3]):[0-5][0-9]:[0-5][0-9]')\n",
    "\n",
    "\n",
    "#Inserindo o Data e hora\n",
    "dataHora = input(\"Data e hora: \")\n",
    "\n",
    "\n",
    "if datahoraReg.search (dataHora):\n",
    "    print ('Sentença Aceita')\n",
    "else:\n",
    "    print ('Sentença Não Aceita')          "
   ]
  },
  {
   "cell_type": "code",
   "execution_count": 18,
   "id": "f1d8c63c",
   "metadata": {
    "tags": []
   },
   "outputs": [
    {
     "name": "stdout",
     "output_type": "stream",
     "text": [
      "Seu telefone: 91 98823-3466\n",
      "Sentença Não Aceita\n"
     ]
    }
   ],
   "source": [
    "#Expressão Regular para o Telefone \n",
    "\n",
    "import re #Biblioteca de expressões Regulares\n",
    "#Inserindo o Telefone com variavel input\n",
    "tel = input (\"Seu telefone: \")\n",
    "\n",
    "\n",
    "#Realizando a Expressao Regular\n",
    "telReg = re.compile('^(?:[0-9]{2} [9][0-9]{4}[0-9]{4}|[0-9]{2} [9][0-9]{8})$')\n",
    "\n",
    "#Verificando se a setença escrita é válida\n",
    "if telReg.search (tel):\n",
    "    print ('Sentença Aceita')\n",
    "else:\n",
    "    print ('Sentença Não Aceita')"
   ]
  },
  {
   "cell_type": "code",
   "execution_count": 20,
   "id": "301c0d52",
   "metadata": {
    "tags": []
   },
   "outputs": [
    {
     "name": "stdout",
     "output_type": "stream",
     "text": [
      "Número aleatório: -333.\n",
      "Sentença Não Aceita\n"
     ]
    }
   ],
   "source": [
    "#Expressão Regular para números reais com ou sem sinal \n",
    "\n",
    "import re #Biblioteca de expressões Regulares\n",
    "#Inserindo o número com variavel input\n",
    "number = input (\"Número aleatório: \")\n",
    "\n",
    "\n",
    "#Realizando a Expressao Regular\n",
    "numberReg = re.compile('^[+-]?(?:\\d+|\\d*\\d+\\.\\d+)$')\n",
    "\n",
    "#Verificando se a setença escrita é válida\n",
    "if numberReg.search (number):\n",
    "    print ('Sentença Aceita')\n",
    "else:\n",
    "    print ('Sentença Não Aceita')"
   ]
  }
 ],
 "metadata": {
  "kernelspec": {
   "display_name": "Python 3 (ipykernel)",
   "language": "python",
   "name": "python3"
  },
  "language_info": {
   "codemirror_mode": {
    "name": "ipython",
    "version": 3
   },
   "file_extension": ".py",
   "mimetype": "text/x-python",
   "name": "python",
   "nbconvert_exporter": "python",
   "pygments_lexer": "ipython3",
   "version": "3.10.6"
  }
 },
 "nbformat": 4,
 "nbformat_minor": 5
}
