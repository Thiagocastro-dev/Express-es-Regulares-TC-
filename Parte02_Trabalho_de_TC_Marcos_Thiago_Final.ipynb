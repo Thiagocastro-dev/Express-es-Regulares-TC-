{
 "cells": [
  {
   "cell_type": "code",
   "execution_count": 1,
   "id": "99ce735b",
   "metadata": {
    "tags": []
   },
   "outputs": [
    {
     "name": "stdout",
     "output_type": "stream",
     "text": [
      "Passou\n",
      "Passou\n",
      "Passou\n",
      "Passou\n",
      "Passou\n",
      "Passou\n",
      "None\n",
      "None\n",
      "Passou\n",
      "None\n"
     ]
    }
   ],
   "source": [
    "# Expressão regular\n",
    "# a) Casais heterossexuais mais velhos que os filhos com pelo menos duas filhas mulheres,\n",
    "# ou pelo menos um filho homem, ou ainda pelo menos dois filhos homens e uma filha mulher.\n",
    "\n",
    "import re #Biblioteca de expressões Regulares\n",
    "\n",
    "def regexA(inputA):\n",
    "    # Primeiramente, verifica se o casal é heterossexual, HM para homem mais velho ou MH para mulher mais velha\n",
    "    # Lembrando que os filhos \"h\" e \"m\" não tem distinção de serem mais velhos ou mais novos, logo,\n",
    "    # é delimitado um espaço para receber a operação lógica \"ou\".\n",
    "    \n",
    "    userA = r'^((HM)|(MH))(h*mh*mh*[hm]*|m*h+m*|(hh*mh*h|mhh*h|hh*hm))$'\n",
    "    if re.match(userA, inputA):\n",
    "        return \"Passou\"\n",
    "    else:\n",
    "        return \"None\"\n",
    "    \n",
    "# h*mh*mh*[hm]* => além de verificar se tem no mínimo duas filhas, também permite adicionar mais filhos \"h\" ou \"m\"\n",
    "# m*h+m* => verifica se o casal tem no mínimo um filho, podendo ter mais filhos\n",
    "# (hh*mh*h|mh*hh|hh*hm) => verificar se tem no mínimo dois filhos e uma filhas, podendo verificar se no mínimo a filha é \n",
    "# a mais nova, ou a do meio, ou a mais velha. Além de aceitar outra quantidade de filhos.\n",
    "\n",
    "input1 = 'HMhmhm'\n",
    "input2 = 'HMmhmhmh'\n",
    "input3 = 'MHhhmm'\n",
    "input4 = 'HMhhmmhhh'\n",
    "input5 = 'MHhhm'\n",
    "input6 = 'MHhhhhm'\n",
    "input7 = 'MMhhm'\n",
    "input8 = 'HHhhhmmm'\n",
    "input9 = 'MHmh'\n",
    "input10 = 'HMm'\n",
    "\n",
    "print(regexA(input1))\n",
    "print(regexA(input2))\n",
    "print(regexA(input3))\n",
    "print(regexA(input4))\n",
    "print(regexA(input5))\n",
    "print(regexA(input6))\n",
    "print(regexA(input7))\n",
    "print(regexA(input8))\n",
    "print(regexA(input9))\n",
    "print(regexA(input10))"
   ]
  },
  {
   "cell_type": "code",
   "execution_count": 4,
   "id": "ae3ccfc0-0cd9-4a72-9a1f-66cf1a6e1ea1",
   "metadata": {
    "tags": []
   },
   "outputs": [
    {
     "name": "stdout",
     "output_type": "stream",
     "text": [
      "Passou\n",
      "Passou\n",
      "Passou\n",
      "Passou\n",
      "None\n",
      "None\n",
      "None\n",
      "None\n",
      "None\n",
      "None\n"
     ]
    }
   ],
   "source": [
    "# Expressão regular\n",
    "# b) Casais heterossexuais mais velhos que os filhos e com uma quantidade ímpar de filhas mulheres.\n",
    "\n",
    "import re\n",
    "\n",
    "def regexB(inputB):\n",
    "    # Primeiramente, verifica se o casal é heterossexual, HM para homem mais velho ou MH para mulher mais velha\n",
    "    # Não a delimitação sobre a idade, logo, as filhas podem ser mais velhas ou mais novas\n",
    "    userB = r'^((HM)|(MH))h*m(h*mh*m)*h*$'\n",
    "    if re.match(userB, inputB):\n",
    "        return \"Passou\"\n",
    "    else:\n",
    "        return \"None\"\n",
    "\n",
    "# h*m(h*mh*m)*h* => funcionalidade que definir a quantidade impar, o \"m\" fora dos parenteses é o que definir essa  quantidade.\n",
    "\n",
    "input1 = 'HMhm'\n",
    "input2 = 'HMm'\n",
    "input3 = 'MHhmhmhm'\n",
    "input4 = 'HMhmmm'\n",
    "input5 = 'MHMmmmmmmm'\n",
    "input6 = 'HHhhhhm'\n",
    "input7 = 'MMmhhhhhh'\n",
    "input8 = 'MHhhhmm'\n",
    "input9 = 'MHmm'\n",
    "input10 = 'HMmhhhm'\n",
    "\n",
    "print(regexB(input1))\n",
    "print(regexB(input2))\n",
    "print(regexB(input3))\n",
    "print(regexB(input4))\n",
    "print(regexB(input5))\n",
    "print(regexB(input6))\n",
    "print(regexB(input7))\n",
    "print(regexB(input8))\n",
    "print(regexB(input9))\n",
    "print(regexB(input10))"
   ]
  },
  {
   "cell_type": "code",
   "execution_count": 9,
   "id": "c688d762-5d72-407f-8673-4d30b5aaab71",
   "metadata": {
    "tags": []
   },
   "outputs": [
    {
     "name": "stdout",
     "output_type": "stream",
     "text": [
      "Passou\n",
      "Passou\n",
      "Passou\n",
      "None\n",
      "None\n",
      "None\n"
     ]
    }
   ],
   "source": [
    "# Expressão regular\n",
    "# c) Casais heterossexuais mais velhos que os filhos, com a filha mais velha mulher e o filho mais novo homem.\n",
    "\n",
    "import re\n",
    "\n",
    "def regexC(inputC):\n",
    "    # Primeiramente, verifica se o casal é heterossexual, HM para homem mais velho ou MH para mulher mais velha\n",
    "    # Nesta expressão á delimitação de idade, sendo a filha a mais velha e o filho mais novo, porém não delimita a quantidade e sexo (h ou m) entre eles.\n",
    "    userC = r'^((HM)|(MH))m(h|m)*h$'\n",
    "    if re.match(userC, inputC):\n",
    "        return \"Passou\"\n",
    "    else:\n",
    "        return \"None\"\n",
    "\n",
    "# m(h|m)*h => m delimita a filha mais nova (h|m)* definem a quantidade de filhos e h no final definir o filho mais novo\n",
    "input1 = 'HMmh'\n",
    "input2 = 'HMmhh'\n",
    "input3 = 'MHmmmhhhh'\n",
    "input4 = 'MMmhmhmh'\n",
    "input5 = 'MHmmmmmmm'\n",
    "input6 = 'MMmh'\n",
    "\n",
    "print(regexC(input1))\n",
    "print(regexC(input2))\n",
    "print(regexC(input3))\n",
    "print(regexC(input4))\n",
    "print(regexC(input5))\n",
    "print(regexC(input6))"
   ]
  },
  {
   "cell_type": "code",
   "execution_count": 27,
   "id": "43deca8c-fbe6-4d4c-922e-6062831d4fee",
   "metadata": {
    "tags": []
   },
   "outputs": [
    {
     "name": "stdout",
     "output_type": "stream",
     "text": [
      "Passou\n",
      "None\n",
      "Passou\n",
      "None\n",
      "Passou\n",
      "Passou\n",
      "None\n",
      "None\n",
      "None\n",
      "None\n",
      "None\n",
      "None\n"
     ]
    }
   ],
   "source": [
    "# Expressão regular\n",
    "# d) Casais homossexuais mais velhos que os filhos, com pelo menos seis filhos, em que os\n",
    "# dois primeiros filhos formam um casal e os últimos também.\n",
    "\n",
    "import re\n",
    "\n",
    "def regexD(inputD):\n",
    "    # Primeiramente, verifica se o casal é homossexual, sendo HH por um casal de homens e MM para casal de mulheres\n",
    "    # Não a delimitação para a idade, porém a delimitação a quantidade total e para quantidade que inicia e finaliza\n",
    "    userD = r'^([H]{2}|[M]{2})(([h]{2}|[m]{2})(h|m)*([hm]{2})+(h|m)*([h]{2}|[m]{2}))$'\n",
    "    if re.match(userD, inputD):\n",
    "        return \"Passou\"\n",
    "    else:\n",
    "        return \"None\"\n",
    "    \n",
    "    \n",
    "# ([H]{2}|[M]{2}) => {2} significa que a sentença e aplicada somente com 2 string, nem mais e nem menos\n",
    "# onde é aplicada novamente nesta sentença: ([h]{2}|[m]{2})\n",
    "# (h|m)* pode ter varios filhos entre o par mais novo e o mais velho\n",
    "# ([hm]{2}) => faz com que seja obrigatório dois filhos no meio, sendo eles mm ou mh ou hh ou hm\n",
    "\n",
    "input1 = 'HHhhhmmm'\n",
    "input2 = 'MHhhhhmm'\n",
    "input3 = 'MMmmmhhh'\n",
    "input4 = 'HHmhhhhm'\n",
    "input5 = 'HHmmhhmmhh'\n",
    "input6 = 'MMhhmmhhhh'\n",
    "input7 = 'MMhhhh'\n",
    "input8 = 'MMmmmm'\n",
    "input9 = 'MMhhmhh'\n",
    "input10 = 'MMhhmm'\n",
    "input11 = 'HHmmhh'\n",
    "input12 = 'HHhm'\n",
    "\n",
    "print(regexD(input1))\n",
    "print(regexD(input2))\n",
    "print(regexD(input3))\n",
    "print(regexD(input4))\n",
    "print(regexD(input5))\n",
    "print(regexD(input6))\n",
    "print(regexD(input7))\n",
    "print(regexD(input8))\n",
    "print(regexD(input9))\n",
    "print(regexD(input10))\n",
    "print(regexD(input11))\n",
    "print(regexD(input12))"
   ]
  },
  {
   "cell_type": "code",
   "execution_count": 31,
   "id": "398512d4-7f1e-449f-9ead-0253a627f205",
   "metadata": {
    "tags": []
   },
   "outputs": [
    {
     "name": "stdout",
     "output_type": "stream",
     "text": [
      "None\n",
      "Passou\n",
      "None\n",
      "None\n",
      "Passou\n",
      "Passou\n",
      "Passou\n",
      "Passou\n",
      "None\n",
      "None\n",
      "None\n",
      "None\n"
     ]
    }
   ],
   "source": [
    "# Expressão regular\n",
    "# e) Casais homossexuais mais velhos que os filhos, em que o sexo dos filhos é alternado \n",
    "# conforme a ordem de nascimento.\n",
    "\n",
    "import re\n",
    "\n",
    "def regexE(inputE):\n",
    "    # Primeiramente, verifica se o casal é homossexual, sendo HH por um casal de homens e MM para casal de mulheres\n",
    "    # Não a delimitação de idade, somente um padrão de \"sim e não\", relacionada ao sexo dos filhos\n",
    "    userE = r'^([H]{2}|[M]{2})((mh)+|(hm)+|(hmh)+|(mhm)+)$'\n",
    "    if re.match(userE, inputE):\n",
    "        return \"Passou\"\n",
    "    else:\n",
    "        return \"None\"\n",
    "    \n",
    "\n",
    "# ((mh)+|(hm)+|(hmh)+|(mhm)+) => analisa se o padrão e aplica, sendo o mínimo de dois filhos alternados   \n",
    "input1 = 'HHhmhmhmhmhmhmh'\n",
    "input2 = 'HHmhmhmh'\n",
    "input3 = 'HHhhmm'\n",
    "input4 = 'HHmmhh'\n",
    "input5 = 'HHhmh'\n",
    "input6 = 'HHmhm'\n",
    "input7 = 'MMhmhmhm'\n",
    "input8 = 'MMhm'\n",
    "input9 = 'HMhmhmhm'\n",
    "input10 = 'HMmhmhm'\n",
    "input11 = 'HHhhhhh'\n",
    "input12 = 'MMhhhhh'\n",
    "\n",
    "print(regexE(input1))\n",
    "print(regexE(input2))\n",
    "print(regexE(input3))\n",
    "print(regexE(input4))\n",
    "print(regexE(input5))\n",
    "print(regexE(input6))\n",
    "print(regexE(input7))\n",
    "print(regexE(input8))\n",
    "print(regexE(input9))\n",
    "print(regexE(input10))\n",
    "print(regexE(input11))\n",
    "print(regexE(input12))\n"
   ]
  },
  {
   "cell_type": "code",
   "execution_count": 32,
   "id": "29ba6a71-cf47-48f2-9911-ab2f5a4a3a47",
   "metadata": {
    "tags": []
   },
   "outputs": [
    {
     "name": "stdout",
     "output_type": "stream",
     "text": [
      "Passou\n",
      "Passou\n",
      "Passou\n",
      "Passou\n",
      "Passou\n",
      "Passou\n",
      "Passou\n",
      "Passou\n",
      "Passou\n",
      "None\n",
      "None\n",
      "None\n"
     ]
    }
   ],
   "source": [
    "# Expressão regular\n",
    "# f) Casais homossexuais mais velhos que os filhos, com qualquer quantidade de filhos homens e mulheres, \n",
    "# mas que não tiveram dois filhos homens consecutivos.\n",
    "\n",
    "import re\n",
    "\n",
    "def regexF(inputF):\n",
    "    # Primeiramente, verifica se o casal é homossexual, sendo HH por um casal de homens e MM para casal de mulheres\n",
    "    # Não a delimitação na idade, porém, a delimitação na aproximidade de filhos.\n",
    "    userF = r'^([H]{2}|[M]{2})(h|m)m*(m+(h|m)m*)*$'\n",
    "    if re.match(userF, inputF):\n",
    "        return \"Passou\"\n",
    "    else:\n",
    "        return \"None\"\n",
    "\n",
    "# (h|m) => inicia verificando se o primeiro filho é homem ou mulher\n",
    "# m* => quantidade de filhas mulheres até o próximo filho\n",
    "# m+ => ter a certeza que haverá uma filha entre dois filhos homens\n",
    "# (m+(h|m)m*) => pode haver ou não um outro filho homem, e \"m*\" defini se ele será o mais novo ou não\n",
    "\n",
    "input1 = 'HHmmmm'\n",
    "input2 = 'HHmmmmmm'\n",
    "input3 = 'HHhmhmhm'\n",
    "input4 = 'HHhmmmmmm'\n",
    "input5 = 'HHmmmmmmh'\n",
    "input6 = 'HHmmmmhmmmmh'\n",
    "input7 = 'MMhm'\n",
    "input8 = 'MMh'\n",
    "input9 = 'HHm'\n",
    "input10 = 'HMmhmhm'\n",
    "input11 = 'HHmhh'\n",
    "input12 = 'MMhmmhh'\n",
    "\n",
    "print(regexF(input1))\n",
    "print(regexF(input2))\n",
    "print(regexF(input3))\n",
    "print(regexF(input4))\n",
    "print(regexF(input5))\n",
    "print(regexF(input6))\n",
    "print(regexF(input7))\n",
    "print(regexF(input8))\n",
    "print(regexF(input9))\n",
    "print(regexF(input10))\n",
    "print(regexF(input11))\n",
    "print(regexF(input12))"
   ]
  },
  {
   "cell_type": "code",
   "execution_count": 175,
   "id": "087ad87c-e388-4caa-ab39-c75b06301a4f",
   "metadata": {
    "tags": []
   },
   "outputs": [
    {
     "name": "stdout",
     "output_type": "stream",
     "text": [
      "None\n"
     ]
    }
   ],
   "source": [
    "# Expressão regular\n",
    "# g) Arranjo de no mínimo x∈ℕ e no máximo y ∈ℕ , com x> 0 , y > 0 , e x≤ y , de adultos (Hs ou Ms) \n",
    "# mais velhos que os filhos, com qualquer quantidade de filhos homens e mulheres, mas que os \n",
    "# três filhos mais novos não foram homens.\n",
    "import re\n",
    "\n",
    "# Primeiramente, capturamos a quantidade da string e verificamos se a quantidade de pais (x) é menor ou igual que a de filhos (y)\n",
    "inputFamilia = 'HMhhhhh'\n",
    "num_casais = inputFamilia.count('H') + inputFamilia.count('M')\n",
    "num_filhos = inputFamilia.count('h') + inputFamilia.count('m')\n",
    "\n",
    "# HM,MH,MM e HH irão ter valor de 1, sendo divididos por 2\n",
    "x = max(num_casais / 2, 1)   # O \",1\" significa resultados negativos não são aceitos, no mínimo 1 positivo deve ser aceito\n",
    "y = max(num_filhos, 1)       # Se o resultado for 0 (zero) ainda irá retorna 1 (um)\n",
    "\n",
    "if y >= x:\n",
    "    # Pode haver qualquer tipo de casal nessa regex\n",
    "    # A única delimitação de idade e em relação ao três filhos mais novos, dois filhos ou um ainda devem ser aceitos\n",
    "    regexFamilia = r'^(HH|MM|MH|HM)+([hm]{1,2}|((h|m)+((m+(h|hh)m*)|m+)))$'\n",
    "    if re.match(regexFamilia, inputFamilia):\n",
    "        print('Passou')v\n",
    "    else:\n",
    "        print('None')\n",
    "else:\n",
    "    print('Quantidade de país maior que os filhos')\n",
    "    \n",
    "# (HH|MM|MH|HM)+ => pode ter mais de um casal, mas não poder ter zero;\n",
    "# [hm]{1,2} => irá esta recebendo no mínimo um caracter sendo h ou m, e no maximo dois hh,mh,mm, hm\n",
    "# (h|m)+ => deve ter no mínimo um filho ou mais;\n",
    "# ((m+(h|hh)m*)|m+) => demembrando: ((m+(h|hh)m*) => o m+ não deixa ter a sequencia \"hhh\", somente mh ou mhh ou mhhm,\n",
    "# enquanto a |m+) => permitira que (h|m)+ rode diversos \"hhhhhhhh\" porém irá sempre finalizar em m, como hhhhhm,\n",
    "# assim, não teremos hhh em nenhuma situação.\n",
    "\n",
    "#Testes feitos: HMHM, HMHH, MMHH, MHHM, HMm, HHh, HMHMm, HMhmhmhmhmhmhmmmm"
   ]
  }
 ],
 "metadata": {
  "kernelspec": {
   "display_name": "Python 3 (ipykernel)",
   "language": "python",
   "name": "python3"
  },
  "language_info": {
   "codemirror_mode": {
    "name": "ipython",
    "version": 3
   },
   "file_extension": ".py",
   "mimetype": "text/x-python",
   "name": "python",
   "nbconvert_exporter": "python",
   "pygments_lexer": "ipython3",
   "version": "3.10.6"
  }
 },
 "nbformat": 4,
 "nbformat_minor": 5
}
